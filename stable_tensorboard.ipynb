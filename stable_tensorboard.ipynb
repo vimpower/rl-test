{
 "cells": [
  {
   "cell_type": "code",
   "execution_count": null,
   "metadata": {},
   "outputs": [],
   "source": [
    "!sudo apt-get update && sudo apt-get install cmake libopenmpi-dev python3-dev zlib1g-dev\n",
    "!pip install gym[all]\n",
    "!sudo -H pip install Box2D\n",
    "!pip install stable-baselines3[extra]"
   ]
  },
  {
   "cell_type": "code",
   "execution_count": 2,
   "metadata": {},
   "outputs": [
    {
     "ename": "NameError",
     "evalue": "name 'ver' is not defined",
     "output_type": "error",
     "traceback": [
      "\u001b[0;31m---------------------------------------------------------------------------\u001b[0m",
      "\u001b[0;31mNameError\u001b[0m                                 Traceback (most recent call last)",
      "\u001b[1;32m/home/hieupc/Documents/MasterDegree/MasterTheisis/ReinforcementLearning/GymTest/stable_tensorboard.ipynb Cell 1'\u001b[0m in \u001b[0;36m<cell line: 18>\u001b[0;34m()\u001b[0m\n\u001b[1;32m     <a href='vscode-notebook-cell:/home/hieupc/Documents/MasterDegree/MasterTheisis/ReinforcementLearning/GymTest/stable_tensorboard.ipynb#ch0000000?line=14'>15</a>\u001b[0m env \u001b[39m=\u001b[39m gym\u001b[39m.\u001b[39mmake(\u001b[39m\"\u001b[39m\u001b[39mLunarLander-v2\u001b[39m\u001b[39m\"\u001b[39m)\n\u001b[1;32m     <a href='vscode-notebook-cell:/home/hieupc/Documents/MasterDegree/MasterTheisis/ReinforcementLearning/GymTest/stable_tensorboard.ipynb#ch0000000?line=15'>16</a>\u001b[0m env\u001b[39m.\u001b[39mreset()\n\u001b[0;32m---> <a href='vscode-notebook-cell:/home/hieupc/Documents/MasterDegree/MasterTheisis/ReinforcementLearning/GymTest/stable_tensorboard.ipynb#ch0000000?line=17'>18</a>\u001b[0m model \u001b[39m=\u001b[39m A2C(\u001b[39m\"\u001b[39m\u001b[39mMlpPolicy\u001b[39m\u001b[39m\"\u001b[39m, env, ver)\n",
      "\u001b[0;31mNameError\u001b[0m: name 'ver' is not defined"
     ]
    }
   ],
   "source": [
    "import gym\n",
    "import os\n",
    "from stable_baselines3 import A2C\n",
    "\n",
    "\n",
    "models_dir = \"models/A2C\"\n",
    "log_dir = \"logs/A2C\"\n",
    "\n",
    "if not os.path.exists(models_dir):\n",
    "    os.makedirs(models_dir)\n",
    "\n",
    "if not os.path.exists(log_dir):\n",
    "    os.makedirs(log_dir)\n",
    "\n",
    "env = gym.make(\"LunarLander-v2\")\n",
    "env.reset()\n",
    "\n",
    "model = A2C(\"MlpPolicy\", env, verbose=1, tensorboard_log=log_dir)\n",
    "\n",
    "TIMESTEPS = 10000\n",
    "for i in range(30):\n",
    "    model.learn(total_timesteps=TIMESTEPS, reset_num_timesteps=False, tb_log_name=\"A2C\")\n",
    "    model.save(f\"{models_dir}/{TIMESTEPS * i}\")\n",
    "\n",
    "env.close()\n"
   ]
  },
  {
   "cell_type": "code",
   "execution_count": null,
   "metadata": {},
   "outputs": [],
   "source": []
  }
 ],
 "metadata": {
  "kernelspec": {
   "display_name": "Python 3.10.4 ('openAI')",
   "language": "python",
   "name": "python3"
  },
  "language_info": {
   "codemirror_mode": {
    "name": "ipython",
    "version": 3
   },
   "file_extension": ".py",
   "mimetype": "text/x-python",
   "name": "python",
   "nbconvert_exporter": "python",
   "pygments_lexer": "ipython3",
   "version": "3.10.4"
  },
  "orig_nbformat": 4,
  "vscode": {
   "interpreter": {
    "hash": "0108ab2a84713fd84ff5da917e4138781019a9371dd00dba8108ee991f35cc61"
   }
  }
 },
 "nbformat": 4,
 "nbformat_minor": 2
}
